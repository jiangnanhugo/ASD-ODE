{
 "cells": [
  {
   "cell_type": "code",
   "execution_count": null,
   "id": "95016770",
   "metadata": {},
   "outputs": [],
   "source": [
    "import pandas as pds\n",
    "import matplotlib.pyplot as plt\n",
    "import numpy as np\n",
    "from scipy.interpolate import CubicSpline, interp1d\n",
    "from scipy.linalg import svd"
   ]
  },
  {
   "cell_type": "code",
   "execution_count": null,
   "id": "d66fcc5d",
   "metadata": {},
   "outputs": [],
   "source": [
    "file_list = [\n",
    "    \"input celgene09.csv\",\n",
    "    \"input centoco06.csv\",\n",
    "    \"input cougar06.csv\",\n",
    "    \"input novacea06.csv\",\n",
    "    \"input pfizer08.csv\",\n",
    "    \"input sanfi00.csv\",\n",
    "    \"input sanofi79.csv\",\n",
    "    \"inputS83OFF.csv\",\n",
    "    \"inputS83ON.csv\",\n",
    "]"
   ]
  },
  {
   "cell_type": "code",
   "execution_count": null,
   "id": "f71da28b",
   "metadata": {},
   "outputs": [],
   "source": [
    "df_list = list()\n",
    "for f in file_list:\n",
    "    df = pds.read_csv(\"data/\" + f)\n",
    "    df[\"name\"] = df[\"name\"].astype(str) + f\n",
    "    df_list.append(df)\n",
    "\n",
    "df = pds.concat(df_list)"
   ]
  },
  {
   "cell_type": "code",
   "execution_count": null,
   "id": "041b5798",
   "metadata": {},
   "outputs": [],
   "source": [
    "df.head()"
   ]
  },
  {
   "cell_type": "code",
   "execution_count": null,
   "id": "a6cf6f14",
   "metadata": {},
   "outputs": [],
   "source": [
    "df_wide = pds.pivot_table(df, values=\"size\", index=\"name\", columns=\"date\")"
   ]
  },
  {
   "cell_type": "code",
   "execution_count": null,
   "id": "99b182f6",
   "metadata": {},
   "outputs": [],
   "source": [
    "df_wide.shape"
   ]
  },
  {
   "cell_type": "code",
   "execution_count": null,
   "id": "073fb657",
   "metadata": {},
   "outputs": [],
   "source": [
    "df_wide.head()"
   ]
  },
  {
   "cell_type": "code",
   "execution_count": null,
   "id": "f1a253c2",
   "metadata": {},
   "outputs": [],
   "source": [
    "(df_wide.isnull().sum(axis=0) < (3216 - 2)).values[:365]"
   ]
  },
  {
   "cell_type": "code",
   "execution_count": null,
   "id": "953be527",
   "metadata": {},
   "outputs": [],
   "source": [
    "mat_wide = df_wide.values[:, :365].copy()\n",
    "mat_wide.shape"
   ]
  },
  {
   "cell_type": "code",
   "execution_count": null,
   "id": "46e12805",
   "metadata": {},
   "outputs": [],
   "source": [
    "mat_wide.shape"
   ]
  },
  {
   "cell_type": "code",
   "execution_count": null,
   "id": "64e1e3e1",
   "metadata": {},
   "outputs": [],
   "source": [
    "((365 - np.sum(np.isnan(mat_wide), axis=1)) > 10).sum()"
   ]
  },
  {
   "cell_type": "code",
   "execution_count": null,
   "id": "03e7c78d",
   "metadata": {},
   "outputs": [],
   "source": [
    "mat_small = mat_wide[((365 - np.sum(np.isnan(mat_wide), axis=1)) > 10)]"
   ]
  },
  {
   "cell_type": "code",
   "execution_count": null,
   "id": "fed7d49b",
   "metadata": {},
   "outputs": [],
   "source": [
    "mat_small.shape"
   ]
  },
  {
   "cell_type": "code",
   "execution_count": null,
   "id": "045d5bc7",
   "metadata": {},
   "outputs": [],
   "source": [
    "plt.plot(mat_small[0], \"o\")"
   ]
  },
  {
   "cell_type": "code",
   "execution_count": null,
   "id": "91d6b2a5",
   "metadata": {},
   "outputs": [],
   "source": [
    "## scipy cubic spline interpolate\n",
    "\n",
    "interp_list = []\n",
    "for i in range(mat_small.shape[0]):\n",
    "\n",
    "    row = mat_small[i]\n",
    "    ind = np.where(~np.isnan(row))[0]\n",
    "    val = row[~np.isnan(row)]\n",
    "\n",
    "    #     cs = CubicSpline(ind, val, axis=0, bc_type='natural', extrapolate=None)\n",
    "    cs = interp1d(ind, val, axis=0, kind=\"linear\", fill_value=\"extrapolate\")\n",
    "\n",
    "    y_interp = cs(np.arange(mat_small.shape[1]))\n",
    "    interp_list.append(y_interp)"
   ]
  },
  {
   "cell_type": "code",
   "execution_count": null,
   "id": "0ed66f27",
   "metadata": {},
   "outputs": [],
   "source": [
    "y_interp = np.stack(interp_list, axis=0)\n",
    "y_interp.shape"
   ]
  },
  {
   "cell_type": "code",
   "execution_count": null,
   "id": "4bfdc76d",
   "metadata": {},
   "outputs": [],
   "source": [
    "np.isnan(y_interp).sum()"
   ]
  },
  {
   "cell_type": "code",
   "execution_count": null,
   "id": "84eafc52",
   "metadata": {},
   "outputs": [],
   "source": [
    "s, v, d = svd(y_interp)"
   ]
  },
  {
   "cell_type": "code",
   "execution_count": null,
   "id": "7636b9fc",
   "metadata": {},
   "outputs": [],
   "source": [
    "plt.plot(v[:5])"
   ]
  },
  {
   "cell_type": "code",
   "execution_count": null,
   "id": "6273edfe",
   "metadata": {},
   "outputs": [],
   "source": [
    "plt.plot(d[0])"
   ]
  },
  {
   "cell_type": "code",
   "execution_count": null,
   "id": "ddce24d8",
   "metadata": {},
   "outputs": [],
   "source": [
    "d.shape"
   ]
  },
  {
   "cell_type": "code",
   "execution_count": null,
   "id": "a9a75819",
   "metadata": {},
   "outputs": [],
   "source": [
    "# interpolate\n",
    "# normalize\n",
    "# cluster\n",
    "\n",
    "y_interp_normalized = y_interp / y_interp[:, 0][:, None]"
   ]
  },
  {
   "cell_type": "code",
   "execution_count": null,
   "id": "b4ef80fb",
   "metadata": {},
   "outputs": [],
   "source": []
  },
  {
   "cell_type": "code",
   "execution_count": null,
   "id": "5939fc8c",
   "metadata": {},
   "outputs": [],
   "source": [
    "inds = [\n",
    "    0,\n",
    "    1,\n",
    "    2,\n",
    "    9,\n",
    "    10,\n",
    "    12,\n",
    "    13,\n",
    "    16,\n",
    "    20,\n",
    "    23,\n",
    "    24,\n",
    "    31,\n",
    "    35,\n",
    "    39,\n",
    "    41,\n",
    "    42,\n",
    "    52,\n",
    "    54,\n",
    "    59,\n",
    "    61,\n",
    "    63,\n",
    "    65,\n",
    "    67,\n",
    "    69,\n",
    "    72,\n",
    "    73,\n",
    "    75,\n",
    "    78,\n",
    "    81,\n",
    "    82,\n",
    "    83,\n",
    "    84,\n",
    "    87,\n",
    "    88,\n",
    "    91,\n",
    "    92,\n",
    "    93,\n",
    "    95,\n",
    "    99,\n",
    "    101,\n",
    "    103,\n",
    "    104,\n",
    "    106,\n",
    "    108,\n",
    "    112,\n",
    "    114,\n",
    "    115,\n",
    "    116,\n",
    "    117,\n",
    "    125,\n",
    "    126,\n",
    "    129,\n",
    "    130,\n",
    "    132,\n",
    "    133,\n",
    "    134,\n",
    "    138,\n",
    "    139,\n",
    "    141,\n",
    "    143,\n",
    "    144,\n",
    "    145,\n",
    "    146,\n",
    "    147,\n",
    "    148,\n",
    "    150,\n",
    "    154,\n",
    "    156,\n",
    "    157,\n",
    "    159,\n",
    "    162,\n",
    "    165,\n",
    "    166,\n",
    "    167,\n",
    "    168,\n",
    "    170,\n",
    "    175,\n",
    "    176,\n",
    "    178,\n",
    "    179,\n",
    "    182,\n",
    "    187,\n",
    "    190,\n",
    "    191,\n",
    "    192,\n",
    "    199,\n",
    "    202,\n",
    "    204,\n",
    "    211,\n",
    "    213,\n",
    "    214,\n",
    "    216,\n",
    "    217,\n",
    "    218,\n",
    "    219,\n",
    "    223,\n",
    "    224,\n",
    "    225,\n",
    "    226,\n",
    "    227,\n",
    "    228,\n",
    "    229,\n",
    "    230,\n",
    "    233,\n",
    "    235,\n",
    "    239,\n",
    "    241,\n",
    "    244,\n",
    "    245,\n",
    "    247,\n",
    "    250,\n",
    "    252,\n",
    "    254,\n",
    "    256,\n",
    "    257,\n",
    "    258,\n",
    "    260,\n",
    "    262,\n",
    "    264,\n",
    "    265,\n",
    "    266,\n",
    "    268,\n",
    "    269,\n",
    "    270,\n",
    "    272,\n",
    "    275,\n",
    "    276,\n",
    "    277,\n",
    "    278,\n",
    "    279,\n",
    "    280,\n",
    "    281,\n",
    "    282,\n",
    "    284,\n",
    "    286,\n",
    "    289,\n",
    "    290,\n",
    "    291,\n",
    "    295,\n",
    "    297,\n",
    "    299,\n",
    "    301,\n",
    "    303,\n",
    "    305,\n",
    "    306,\n",
    "    307,\n",
    "    308,\n",
    "    312,\n",
    "    315,\n",
    "    316,\n",
    "    317,\n",
    "    321,\n",
    "    322,\n",
    "    323,\n",
    "    325,\n",
    "    326,\n",
    "    327,\n",
    "    329,\n",
    "    331,\n",
    "    333,\n",
    "    334,\n",
    "    340,\n",
    "    346,\n",
    "    347,\n",
    "    348,\n",
    "    351,\n",
    "    352,\n",
    "    357,\n",
    "    359,\n",
    "    365,\n",
    "    366,\n",
    "    367,\n",
    "    368,\n",
    "    369,\n",
    "    370,\n",
    "    371,\n",
    "    372,\n",
    "    374,\n",
    "    376,\n",
    "    377,\n",
    "    378,\n",
    "    379,\n",
    "    380,\n",
    "    383,\n",
    "    384,\n",
    "    385,\n",
    "    386,\n",
    "    387,\n",
    "    388,\n",
    "    389,\n",
    "    390,\n",
    "    393,\n",
    "    394,\n",
    "    395,\n",
    "    396,\n",
    "    397,\n",
    "    399,\n",
    "    401,\n",
    "    405,\n",
    "    407,\n",
    "    410,\n",
    "    412,\n",
    "    413,\n",
    "    417,\n",
    "    421,\n",
    "    422,\n",
    "    425,\n",
    "    427,\n",
    "    430,\n",
    "    431,\n",
    "    432,\n",
    "    435,\n",
    "    439,\n",
    "    441,\n",
    "    442,\n",
    "    445,\n",
    "    446,\n",
    "    447,\n",
    "    450,\n",
    "    452,\n",
    "    454,\n",
    "    455,\n",
    "    456,\n",
    "    457,\n",
    "    458,\n",
    "    459,\n",
    "    460,\n",
    "    461,\n",
    "    462,\n",
    "    463,\n",
    "    465,\n",
    "    466,\n",
    "    469,\n",
    "    470,\n",
    "    473,\n",
    "    474,\n",
    "    475,\n",
    "    479,\n",
    "    484,\n",
    "    485,\n",
    "    486,\n",
    "    488,\n",
    "    489,\n",
    "    490,\n",
    "    491,\n",
    "    492,\n",
    "    494,\n",
    "    496,\n",
    "    497,\n",
    "    500,\n",
    "    502,\n",
    "    503,\n",
    "    504,\n",
    "    505,\n",
    "    509,\n",
    "    510,\n",
    "    512,\n",
    "    513,\n",
    "    514,\n",
    "    515,\n",
    "    516,\n",
    "    517,\n",
    "    518,\n",
    "    519,\n",
    "    520,\n",
    "    523,\n",
    "    524,\n",
    "    525,\n",
    "    526,\n",
    "    528,\n",
    "    529,\n",
    "    531,\n",
    "    534,\n",
    "    535,\n",
    "    536,\n",
    "    537,\n",
    "    539,\n",
    "    540,\n",
    "    541,\n",
    "    542,\n",
    "    543,\n",
    "    544,\n",
    "    545,\n",
    "    546,\n",
    "    547,\n",
    "    550,\n",
    "    552,\n",
    "    553,\n",
    "    555,\n",
    "    556,\n",
    "    557,\n",
    "    559,\n",
    "    561,\n",
    "    563,\n",
    "    564,\n",
    "    568,\n",
    "    569,\n",
    "    570,\n",
    "    576,\n",
    "    578,\n",
    "    580,\n",
    "    581,\n",
    "    582,\n",
    "    583,\n",
    "    585,\n",
    "    586,\n",
    "    588,\n",
    "    593,\n",
    "    594,\n",
    "    597,\n",
    "]"
   ]
  },
  {
   "cell_type": "code",
   "execution_count": null,
   "id": "5f6fdbaf",
   "metadata": {},
   "outputs": [],
   "source": [
    "y_c1 = y_interp_normalized[inds]"
   ]
  },
  {
   "cell_type": "code",
   "execution_count": null,
   "id": "0811c4f1",
   "metadata": {},
   "outputs": [],
   "source": []
  },
  {
   "cell_type": "code",
   "execution_count": null,
   "id": "4e4bd5fe",
   "metadata": {},
   "outputs": [],
   "source": [
    "plt.plot(y_c1[0].T)"
   ]
  },
  {
   "cell_type": "code",
   "execution_count": null,
   "id": "49f7b0fc",
   "metadata": {},
   "outputs": [],
   "source": [
    "y_c1[0].shape"
   ]
  },
  {
   "cell_type": "code",
   "execution_count": null,
   "id": "d8f4d3eb",
   "metadata": {},
   "outputs": [],
   "source": []
  },
  {
   "cell_type": "code",
   "execution_count": null,
   "id": "17509e62",
   "metadata": {},
   "outputs": [],
   "source": [
    "s, v, d = svd(y_c1)"
   ]
  },
  {
   "cell_type": "code",
   "execution_count": null,
   "id": "795f7c98",
   "metadata": {},
   "outputs": [],
   "source": [
    "plt.plot(v)"
   ]
  },
  {
   "cell_type": "code",
   "execution_count": null,
   "id": "8b8f11d7",
   "metadata": {},
   "outputs": [],
   "source": []
  },
  {
   "cell_type": "code",
   "execution_count": null,
   "id": "897a681e",
   "metadata": {},
   "outputs": [],
   "source": [
    "def build(y_interp, ind):\n",
    "    y_time = np.arange(y_interp.shape[1]) / 365\n",
    "\n",
    "    y_time_list = [y_time] * y_interp.shape[0]\n",
    "\n",
    "    y_time = np.stack(y_time_list, axis=0).T[:, :, None]\n",
    "\n",
    "    y_interp = y_interp.T[:, :, None]\n",
    "\n",
    "    y_total = np.concatenate([y_interp, y_time], axis=-1)\n",
    "\n",
    "    mask = ~np.isnan(mat_small[inds]).T\n",
    "    return y_total, mask"
   ]
  },
  {
   "cell_type": "code",
   "execution_count": null,
   "id": "1e7022f0",
   "metadata": {},
   "outputs": [],
   "source": [
    "y_total_c1, mask_c1 = build(y_c1, 0)"
   ]
  },
  {
   "cell_type": "code",
   "execution_count": null,
   "id": "05c8fe83",
   "metadata": {},
   "outputs": [],
   "source": [
    "y_total_c1.shape"
   ]
  },
  {
   "cell_type": "code",
   "execution_count": null,
   "id": "61743671",
   "metadata": {},
   "outputs": [],
   "source": [
    "mask_c1.shape"
   ]
  },
  {
   "cell_type": "code",
   "execution_count": null,
   "id": "16e1c8ce",
   "metadata": {},
   "outputs": [],
   "source": [
    "y_total_c1[:, :, 0].std()"
   ]
  },
  {
   "cell_type": "code",
   "execution_count": null,
   "id": "7e41035c",
   "metadata": {},
   "outputs": [],
   "source": [
    "y_total_c1[:, :, 1].std()"
   ]
  },
  {
   "cell_type": "code",
   "execution_count": null,
   "id": "c444975a",
   "metadata": {},
   "outputs": [],
   "source": [
    "import pickle\n",
    "\n",
    "with open(\"data/real_data_c1.pkl\", \"wb\") as f:\n",
    "    pickle.dump(y_total_c1, f)\n",
    "\n",
    "with open(\"data/real_data_mask_c1.pkl\", \"wb\") as f:\n",
    "    pickle.dump(mask_c1, f)"
   ]
  },
  {
   "cell_type": "code",
   "execution_count": null,
   "id": "74d60826",
   "metadata": {},
   "outputs": [],
   "source": []
  }
 ],
 "metadata": {
  "kernelspec": {
   "display_name": "Python 3 (ipykernel)",
   "language": "python",
   "name": "python3"
  },
  "language_info": {
   "codemirror_mode": {
    "name": "ipython",
    "version": 3
   },
   "file_extension": ".py",
   "mimetype": "text/x-python",
   "name": "python",
   "nbconvert_exporter": "python",
   "pygments_lexer": "ipython3",
   "version": "3.9.7"
  }
 },
 "nbformat": 4,
 "nbformat_minor": 5
}
