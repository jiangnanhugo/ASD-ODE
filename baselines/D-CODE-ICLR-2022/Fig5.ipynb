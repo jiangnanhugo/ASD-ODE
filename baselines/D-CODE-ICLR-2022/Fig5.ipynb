{
 "cells": [
  {
   "cell_type": "code",
   "execution_count": null,
   "id": "eee01efa",
   "metadata": {},
   "outputs": [],
   "source": [
    "import argparse\n",
    "import pickle\n",
    "import os\n",
    "import time\n",
    "import matplotlib.pyplot as plt\n",
    "import numpy as np\n",
    "\n",
    "import data\n",
    "import equations\n",
    "\n",
    "from gp_utils import *\n",
    "from interpolate import get_ode_data\n",
    "from collections import Counter"
   ]
  },
  {
   "cell_type": "code",
   "execution_count": null,
   "id": "9cb8151e",
   "metadata": {},
   "outputs": [],
   "source": [
    "def gp_to_pysym(f_star, ode):\n",
    "    VarDict = ode.get_var_dict()\n",
    "    f_star_list, var_list, coef_list = parse_program_to_list(f_star.program)\n",
    "    f_star_infix = generator.Generator.prefix_to_infix(\n",
    "        f_star_list, variables=var_list, coefficients=coef_list\n",
    "    )\n",
    "    f_star_infix2 = f_star_infix.replace(\"{\", \"\").replace(\"}\", \"\")\n",
    "    if f_star_infix2 == f_star_infix:\n",
    "        f_star_sympy = generator.Generator.infix_to_sympy(\n",
    "            f_star_infix, VarDict, \"simplify\"\n",
    "        )\n",
    "        return f_star_sympy\n",
    "\n",
    "    f_star_sympy = generator.Generator.infix_to_sympy(\n",
    "        f_star_infix2, VarDict, \"simplify\"\n",
    "    )\n",
    "    return f_star_sympy\n",
    "\n",
    "\n",
    "def std_RMSE(err_sq):\n",
    "    rmse_list = []\n",
    "    for i in range(500):\n",
    "        new_err = err_sq[np.random.randint(0, len(err_sq), err_sq.shape)]\n",
    "        rmse_itr = np.sqrt(np.mean(new_err))\n",
    "        rmse_list.append(rmse_itr)\n",
    "    return np.std(np.array(rmse_list))"
   ]
  },
  {
   "cell_type": "code",
   "execution_count": null,
   "id": "94533a98",
   "metadata": {},
   "outputs": [],
   "source": [
    "dim_x, x_id, n_sample = 2, 0, 200\n",
    "seed_s, seed_e = 0, 100\n",
    "ode_name = \"real\"\n",
    "dg = data.DataGeneratorReal(dim_x, n_sample)\n",
    "\n",
    "yt = dg.generate_data()\n",
    "ode = equations.RealODEPlaceHolder()\n",
    "ode_data, X_ph, y_ph, t_new = get_ode_data(yt, x_id, dg, ode)"
   ]
  },
  {
   "cell_type": "markdown",
   "id": "9e856887",
   "metadata": {},
   "source": [
    "## SR-T"
   ]
  },
  {
   "cell_type": "code",
   "execution_count": null,
   "id": "fc67eac0",
   "metadata": {},
   "outputs": [],
   "source": [
    "np.random.seed(10)"
   ]
  },
  {
   "cell_type": "code",
   "execution_count": null,
   "id": "34233403",
   "metadata": {},
   "outputs": [],
   "source": [
    "path_base = \"results/{}/sample-{}/dim-{}/\".format(ode_name, n_sample, dim_x)"
   ]
  },
  {
   "cell_type": "code",
   "execution_count": null,
   "id": "11c9198d",
   "metadata": {},
   "outputs": [],
   "source": [
    "res_list = []\n",
    "for s in range(seed_s, seed_e):\n",
    "    if x_id == 0:\n",
    "        path = path_base + \"grad_seed_{}.pkl\".format(s)\n",
    "    else:\n",
    "        path = path_base + \"grad_x_{}_seed_{}.pkl\".format(x_id, s)\n",
    "\n",
    "    try:\n",
    "        with open(path, \"rb\") as f:\n",
    "            res = pickle.load(f)\n",
    "        res_list.append(res)\n",
    "    except FileNotFoundError:\n",
    "        pass"
   ]
  },
  {
   "cell_type": "code",
   "execution_count": null,
   "id": "8a9bb2b7",
   "metadata": {},
   "outputs": [],
   "source": [
    "f_sym_list = [x[\"f_hat\"] for x in res_list]\n",
    "f_hat_list = [x[\"model\"] for x in res_list]\n",
    "fitness_list = [x[\"model\"].oob_fitness_ for x in res_list]\n",
    "# fitness_list = [x['model'].fitness_ for x in res_list]"
   ]
  },
  {
   "cell_type": "code",
   "execution_count": null,
   "id": "8f4b7aa5",
   "metadata": {},
   "outputs": [],
   "source": [
    "# Counter(f_sym_list)"
   ]
  },
  {
   "cell_type": "code",
   "execution_count": null,
   "id": "8f82f895",
   "metadata": {},
   "outputs": [],
   "source": [
    "best_fit = fitness_list.index(min(fitness_list))"
   ]
  },
  {
   "cell_type": "code",
   "execution_count": null,
   "id": "4d3ed55f",
   "metadata": {},
   "outputs": [],
   "source": [
    "best_fit"
   ]
  },
  {
   "cell_type": "code",
   "execution_count": null,
   "id": "3dabbec6",
   "metadata": {},
   "outputs": [],
   "source": [
    "f_sym_list[best_fit]"
   ]
  },
  {
   "cell_type": "code",
   "execution_count": null,
   "id": "bcea1c94",
   "metadata": {},
   "outputs": [],
   "source": [
    "ind = best_fit\n",
    "\n",
    "\n",
    "def ones_func(x):\n",
    "    return 1.0\n",
    "\n",
    "\n",
    "f_list = []\n",
    "for i in range(2):\n",
    "    if i == 0:\n",
    "        f_list.append(f_hat_list[ind].execute)\n",
    "    else:\n",
    "        f_list.append(ones_func)\n",
    "\n",
    "ode_hat = equations.InferredODE(2, f_hat_list=f_list, T=dg.T)\n",
    "dg_hat = data.DataGenerator(\n",
    "    ode_hat,\n",
    "    dg.T,\n",
    "    freq=dg.freq,\n",
    "    n_sample=10,\n",
    "    noise_sigma=0.0,\n",
    "    init_low=(0.99, 0.01),\n",
    "    init_high=(1.0, 0.0),\n",
    ")"
   ]
  },
  {
   "cell_type": "code",
   "execution_count": null,
   "id": "c74b1c50",
   "metadata": {},
   "outputs": [],
   "source": [
    "plt.plot(dg_hat.xt[:, 0, 0])\n",
    "plt.ylim(0, 1.1)"
   ]
  },
  {
   "cell_type": "code",
   "execution_count": null,
   "id": "fe189c6f",
   "metadata": {},
   "outputs": [],
   "source": [
    "x_true = dg.yt_test[:, :, 0]\n",
    "x_pred = dg_hat.xt[:, 0:1, 0]\n",
    "mask = dg.mask_test"
   ]
  },
  {
   "cell_type": "code",
   "execution_count": null,
   "id": "e2c0a2c5",
   "metadata": {},
   "outputs": [],
   "source": [
    "np.sqrt(np.sum((x_true - x_pred) ** 2 * mask) / np.sum(mask))"
   ]
  },
  {
   "cell_type": "code",
   "execution_count": null,
   "id": "88b8339a",
   "metadata": {},
   "outputs": [],
   "source": [
    "std_RMSE((x_true - x_pred) ** 2)"
   ]
  },
  {
   "cell_type": "markdown",
   "id": "d7cb9aaa",
   "metadata": {},
   "source": [
    "## D-CODE"
   ]
  },
  {
   "cell_type": "code",
   "execution_count": null,
   "id": "e70cb335",
   "metadata": {},
   "outputs": [],
   "source": []
  },
  {
   "cell_type": "code",
   "execution_count": null,
   "id": "57e9f73c",
   "metadata": {},
   "outputs": [],
   "source": [
    "np.random.seed(10)"
   ]
  },
  {
   "cell_type": "code",
   "execution_count": null,
   "id": "4d56f6d6",
   "metadata": {},
   "outputs": [],
   "source": [
    "path_base = \"results_vi/{}/sample-{}/dim-{}/\".format(ode_name, n_sample, dim_x)"
   ]
  },
  {
   "cell_type": "code",
   "execution_count": null,
   "id": "a3c76b62",
   "metadata": {},
   "outputs": [],
   "source": [
    "res_list = []\n",
    "for s in range(seed_s, seed_e):\n",
    "    if x_id == 0:\n",
    "        path = path_base + \"grad_seed_{}.pkl\".format(s)\n",
    "    else:\n",
    "        path = path_base + \"grad_x_{}_seed_{}.pkl\".format(x_id, s)\n",
    "\n",
    "    try:\n",
    "        with open(path, \"rb\") as f:\n",
    "            res = pickle.load(f)\n",
    "        res_list.append(res)\n",
    "    except FileNotFoundError:\n",
    "        pass"
   ]
  },
  {
   "cell_type": "code",
   "execution_count": null,
   "id": "d32b846d",
   "metadata": {},
   "outputs": [],
   "source": [
    "f_sym_list = [x[\"f_hat\"] for x in res_list]\n",
    "f_hat_list = [x[\"model\"] for x in res_list]\n",
    "fitness_list = [x[\"model\"].oob_fitness_ for x in res_list]\n",
    "best_fit = fitness_list.index(min(fitness_list))"
   ]
  },
  {
   "cell_type": "code",
   "execution_count": null,
   "id": "cd4b0031",
   "metadata": {},
   "outputs": [],
   "source": [
    "f_sym_list[0]"
   ]
  },
  {
   "cell_type": "code",
   "execution_count": null,
   "id": "56fd599b",
   "metadata": {},
   "outputs": [],
   "source": [
    "ind = 0\n",
    "\n",
    "\n",
    "def ones_func(x):\n",
    "    return 1.0\n",
    "\n",
    "\n",
    "f_list = []\n",
    "for i in range(2):\n",
    "    if i == 0:\n",
    "        f_list.append(f_hat_list[ind].execute)\n",
    "    else:\n",
    "        f_list.append(ones_func)\n",
    "\n",
    "ode_hat = equations.InferredODE(2, f_hat_list=f_list, T=dg.T)\n",
    "dg_hat = data.DataGenerator(\n",
    "    ode_hat,\n",
    "    dg.T,\n",
    "    freq=dg.freq,\n",
    "    n_sample=10,\n",
    "    noise_sigma=0.0,\n",
    "    init_low=(0.99, 0.01),\n",
    "    init_high=(1.0, 0.0),\n",
    ")"
   ]
  },
  {
   "cell_type": "code",
   "execution_count": null,
   "id": "bca2d7b2",
   "metadata": {},
   "outputs": [],
   "source": [
    "plt.plot(dg_hat.xt[:, 0, 0])\n",
    "plt.ylim(0, 1.1)"
   ]
  },
  {
   "cell_type": "code",
   "execution_count": null,
   "id": "f8ac445b",
   "metadata": {},
   "outputs": [],
   "source": [
    "x_true = dg.yt_test[:, :, 0]\n",
    "x_pred = dg_hat.xt[:, 0:1, 0]\n",
    "mask = dg.mask_test"
   ]
  },
  {
   "cell_type": "code",
   "execution_count": null,
   "id": "39646e62",
   "metadata": {},
   "outputs": [],
   "source": [
    "np.sqrt(np.sum((x_true - x_pred) ** 2 * mask) / np.sum(mask))"
   ]
  },
  {
   "cell_type": "code",
   "execution_count": null,
   "id": "eb7d2dab",
   "metadata": {},
   "outputs": [],
   "source": [
    "std_RMSE((x_true - x_pred) ** 2)"
   ]
  },
  {
   "cell_type": "code",
   "execution_count": null,
   "id": "b2dcac8b",
   "metadata": {},
   "outputs": [],
   "source": []
  },
  {
   "cell_type": "code",
   "execution_count": null,
   "id": "1ef6e61e",
   "metadata": {},
   "outputs": [],
   "source": []
  }
 ],
 "metadata": {
  "kernelspec": {
   "display_name": "Python 3 (ipykernel)",
   "language": "python",
   "name": "python3"
  },
  "language_info": {
   "codemirror_mode": {
    "name": "ipython",
    "version": 3
   },
   "file_extension": ".py",
   "mimetype": "text/x-python",
   "name": "python",
   "nbconvert_exporter": "python",
   "pygments_lexer": "ipython3",
   "version": "3.9.7"
  }
 },
 "nbformat": 4,
 "nbformat_minor": 5
}
