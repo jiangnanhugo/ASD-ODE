{
 "cells": [
  {
   "cell_type": "code",
   "id": "initial_id",
   "metadata": {
    "collapsed": true,
    "ExecuteTime": {
     "end_time": "2024-05-14T06:42:28.578958Z",
     "start_time": "2024-05-14T06:42:25.877275Z"
    }
   },
   "source": "!pip install modAL",
   "outputs": [
    {
     "name": "stdout",
     "output_type": "stream",
     "text": [
      "Requirement already satisfied: modAL in /home/jiangnan/miniconda3/lib/python3.10/site-packages (0.62.165)\r\n",
      "Requirement already satisfied: aiohttp in /home/jiangnan/.local/lib/python3.10/site-packages (from modAL) (3.8.4)\r\n",
      "Requirement already satisfied: aiostream~=0.5.2 in /home/jiangnan/miniconda3/lib/python3.10/site-packages (from modAL) (0.5.2)\r\n",
      "Requirement already satisfied: certifi in /home/jiangnan/miniconda3/lib/python3.10/site-packages (from modAL) (2024.2.2)\r\n",
      "Requirement already satisfied: click>=8.1.0 in /home/jiangnan/miniconda3/lib/python3.10/site-packages (from modAL) (8.1.7)\r\n",
      "Requirement already satisfied: fastapi in /home/jiangnan/miniconda3/lib/python3.10/site-packages (from modAL) (0.111.0)\r\n",
      "Requirement already satisfied: grpclib==0.4.7 in /home/jiangnan/miniconda3/lib/python3.10/site-packages (from modAL) (0.4.7)\r\n",
      "Requirement already satisfied: protobuf!=4.24.0,<5.0,>=3.19 in /home/jiangnan/miniconda3/lib/python3.10/site-packages (from modAL) (4.23.4)\r\n",
      "Requirement already satisfied: rich>=12.0.0 in /home/jiangnan/miniconda3/lib/python3.10/site-packages (from modAL) (13.7.0)\r\n",
      "Requirement already satisfied: synchronicity~=0.6.6 in /home/jiangnan/miniconda3/lib/python3.10/site-packages (from modAL) (0.6.7)\r\n",
      "Requirement already satisfied: toml in /home/jiangnan/miniconda3/lib/python3.10/site-packages (from modAL) (0.10.2)\r\n",
      "Requirement already satisfied: typer>=0.9 in /home/jiangnan/miniconda3/lib/python3.10/site-packages (from modAL) (0.12.3)\r\n",
      "Requirement already satisfied: types-certifi in /home/jiangnan/miniconda3/lib/python3.10/site-packages (from modAL) (2021.10.8.3)\r\n",
      "Requirement already satisfied: types-toml in /home/jiangnan/miniconda3/lib/python3.10/site-packages (from modAL) (0.10.8.20240310)\r\n",
      "Requirement already satisfied: watchfiles in /home/jiangnan/miniconda3/lib/python3.10/site-packages (from modAL) (0.21.0)\r\n",
      "Requirement already satisfied: typing-extensions~=4.6 in /home/jiangnan/miniconda3/lib/python3.10/site-packages (from modAL) (4.11.0)\r\n",
      "Requirement already satisfied: h2<5,>=3.1.0 in /home/jiangnan/miniconda3/lib/python3.10/site-packages (from grpclib==0.4.7->modAL) (4.1.0)\r\n",
      "Requirement already satisfied: multidict in /home/jiangnan/.local/lib/python3.10/site-packages (from grpclib==0.4.7->modAL) (6.0.4)\r\n",
      "Requirement already satisfied: markdown-it-py>=2.2.0 in /home/jiangnan/miniconda3/lib/python3.10/site-packages (from rich>=12.0.0->modAL) (3.0.0)\r\n",
      "Requirement already satisfied: pygments<3.0.0,>=2.13.0 in /home/jiangnan/miniconda3/lib/python3.10/site-packages (from rich>=12.0.0->modAL) (2.16.1)\r\n",
      "Requirement already satisfied: sigtools==4.0.1 in /home/jiangnan/miniconda3/lib/python3.10/site-packages (from synchronicity~=0.6.6->modAL) (4.0.1)\r\n",
      "Requirement already satisfied: attrs in /home/jiangnan/miniconda3/lib/python3.10/site-packages (from sigtools==4.0.1->synchronicity~=0.6.6->modAL) (23.1.0)\r\n",
      "Requirement already satisfied: shellingham>=1.3.0 in /home/jiangnan/miniconda3/lib/python3.10/site-packages (from typer>=0.9->modAL) (1.5.4)\r\n",
      "Requirement already satisfied: charset-normalizer<4.0,>=2.0 in /home/jiangnan/.local/lib/python3.10/site-packages (from aiohttp->modAL) (3.1.0)\r\n",
      "Requirement already satisfied: async-timeout<5.0,>=4.0.0a3 in /home/jiangnan/.local/lib/python3.10/site-packages (from aiohttp->modAL) (4.0.2)\r\n",
      "Requirement already satisfied: yarl<2.0,>=1.0 in /home/jiangnan/.local/lib/python3.10/site-packages (from aiohttp->modAL) (1.8.2)\r\n",
      "Requirement already satisfied: frozenlist>=1.1.1 in /home/jiangnan/.local/lib/python3.10/site-packages (from aiohttp->modAL) (1.3.3)\r\n",
      "Requirement already satisfied: aiosignal>=1.1.2 in /home/jiangnan/.local/lib/python3.10/site-packages (from aiohttp->modAL) (1.3.1)\r\n",
      "Requirement already satisfied: starlette<0.38.0,>=0.37.2 in /home/jiangnan/miniconda3/lib/python3.10/site-packages (from fastapi->modAL) (0.37.2)\r\n",
      "Requirement already satisfied: pydantic!=1.8,!=1.8.1,!=2.0.0,!=2.0.1,!=2.1.0,<3.0.0,>=1.7.4 in /home/jiangnan/miniconda3/lib/python3.10/site-packages (from fastapi->modAL) (2.3.0)\r\n",
      "Requirement already satisfied: fastapi-cli>=0.0.2 in /home/jiangnan/miniconda3/lib/python3.10/site-packages (from fastapi->modAL) (0.0.3)\r\n",
      "Requirement already satisfied: httpx>=0.23.0 in /home/jiangnan/miniconda3/lib/python3.10/site-packages (from fastapi->modAL) (0.27.0)\r\n",
      "Requirement already satisfied: jinja2>=2.11.2 in /home/jiangnan/.local/lib/python3.10/site-packages (from fastapi->modAL) (3.1.2)\r\n",
      "Requirement already satisfied: python-multipart>=0.0.7 in /home/jiangnan/miniconda3/lib/python3.10/site-packages (from fastapi->modAL) (0.0.9)\r\n",
      "Requirement already satisfied: ujson!=4.0.2,!=4.1.0,!=4.2.0,!=4.3.0,!=5.0.0,!=5.1.0,>=4.0.1 in /home/jiangnan/.local/lib/python3.10/site-packages (from fastapi->modAL) (5.2.0)\r\n",
      "Requirement already satisfied: orjson>=3.2.1 in /home/jiangnan/miniconda3/lib/python3.10/site-packages (from fastapi->modAL) (3.10.3)\r\n",
      "Requirement already satisfied: email_validator>=2.0.0 in /home/jiangnan/miniconda3/lib/python3.10/site-packages (from fastapi->modAL) (2.1.1)\r\n",
      "Requirement already satisfied: uvicorn>=0.12.0 in /home/jiangnan/miniconda3/lib/python3.10/site-packages (from uvicorn[standard]>=0.12.0->fastapi->modAL) (0.29.0)\r\n",
      "Requirement already satisfied: anyio>=3.0.0 in /home/jiangnan/miniconda3/lib/python3.10/site-packages (from watchfiles->modAL) (3.7.1)\r\n",
      "Requirement already satisfied: idna>=2.8 in /home/jiangnan/miniconda3/lib/python3.10/site-packages (from anyio>=3.0.0->watchfiles->modAL) (3.4)\r\n",
      "Requirement already satisfied: sniffio>=1.1 in /home/jiangnan/miniconda3/lib/python3.10/site-packages (from anyio>=3.0.0->watchfiles->modAL) (1.3.0)\r\n",
      "Requirement already satisfied: exceptiongroup in /home/jiangnan/miniconda3/lib/python3.10/site-packages (from anyio>=3.0.0->watchfiles->modAL) (1.1.2)\r\n",
      "Requirement already satisfied: dnspython>=2.0.0 in /home/jiangnan/miniconda3/lib/python3.10/site-packages (from email_validator>=2.0.0->fastapi->modAL) (2.6.1)\r\n",
      "Requirement already satisfied: hyperframe<7,>=6.0 in /home/jiangnan/miniconda3/lib/python3.10/site-packages (from h2<5,>=3.1.0->grpclib==0.4.7->modAL) (6.0.1)\r\n",
      "Requirement already satisfied: hpack<5,>=4.0 in /home/jiangnan/miniconda3/lib/python3.10/site-packages (from h2<5,>=3.1.0->grpclib==0.4.7->modAL) (4.0.0)\r\n",
      "Requirement already satisfied: httpcore==1.* in /home/jiangnan/miniconda3/lib/python3.10/site-packages (from httpx>=0.23.0->fastapi->modAL) (1.0.5)\r\n",
      "Requirement already satisfied: h11<0.15,>=0.13 in /home/jiangnan/miniconda3/lib/python3.10/site-packages (from httpcore==1.*->httpx>=0.23.0->fastapi->modAL) (0.14.0)\r\n",
      "Requirement already satisfied: MarkupSafe>=2.0 in /home/jiangnan/miniconda3/lib/python3.10/site-packages (from jinja2>=2.11.2->fastapi->modAL) (2.1.1)\r\n",
      "Requirement already satisfied: mdurl~=0.1 in /home/jiangnan/miniconda3/lib/python3.10/site-packages (from markdown-it-py>=2.2.0->rich>=12.0.0->modAL) (0.1.2)\r\n",
      "Requirement already satisfied: annotated-types>=0.4.0 in /home/jiangnan/miniconda3/lib/python3.10/site-packages (from pydantic!=1.8,!=1.8.1,!=2.0.0,!=2.0.1,!=2.1.0,<3.0.0,>=1.7.4->fastapi->modAL) (0.5.0)\r\n",
      "Requirement already satisfied: pydantic-core==2.6.3 in /home/jiangnan/miniconda3/lib/python3.10/site-packages (from pydantic!=1.8,!=1.8.1,!=2.0.0,!=2.0.1,!=2.1.0,<3.0.0,>=1.7.4->fastapi->modAL) (2.6.3)\r\n",
      "Requirement already satisfied: httptools>=0.5.0 in /home/jiangnan/miniconda3/lib/python3.10/site-packages (from uvicorn[standard]>=0.12.0->fastapi->modAL) (0.6.1)\r\n",
      "Requirement already satisfied: python-dotenv>=0.13 in /home/jiangnan/miniconda3/lib/python3.10/site-packages (from uvicorn[standard]>=0.12.0->fastapi->modAL) (1.0.1)\r\n",
      "Requirement already satisfied: pyyaml>=5.1 in /home/jiangnan/miniconda3/lib/python3.10/site-packages (from uvicorn[standard]>=0.12.0->fastapi->modAL) (6.0)\r\n",
      "Requirement already satisfied: uvloop!=0.15.0,!=0.15.1,>=0.14.0 in /home/jiangnan/miniconda3/lib/python3.10/site-packages (from uvicorn[standard]>=0.12.0->fastapi->modAL) (0.19.0)\r\n",
      "Requirement already satisfied: websockets>=10.4 in /home/jiangnan/miniconda3/lib/python3.10/site-packages (from uvicorn[standard]>=0.12.0->fastapi->modAL) (12.0)\r\n"
     ]
    }
   ],
   "execution_count": 3
  },
  {
   "metadata": {
    "ExecuteTime": {
     "end_time": "2024-05-14T06:42:11.001100Z",
     "start_time": "2024-05-14T06:42:10.842851Z"
    }
   },
   "cell_type": "code",
   "source": [
    "from modAL.models import ActiveLearner\n",
    "from sklearn.ensemble import RandomForestClassifier\n",
    "\n",
    "\n",
    "from modAL.models import ActiveLearner\n",
    "from modAL.uncertainty import entropy_sampling\n",
    "from sklearn.ensemble import RandomForestClassifier\n",
    "\n",
    "learner = ActiveLearner(\n",
    "    estimator=RandomForestClassifier(),\n",
    "    query_strategy=entropy_sampling,\n",
    "    X_training=X_training, y_training=y_training\n",
    ")\n",
    "\n",
    "# initializing the learner\n",
    "learner = ActiveLearner(\n",
    "    estimator=RandomForestClassifier(),\n",
    "    X_training=X_training, y_training=y_training\n",
    ")\n",
    "\n",
    "# query for labels\n",
    "query_idx, query_inst = learner.query(X_pool)\n",
    "\n",
    "# ...obtaining new labels from the Oracle...\n",
    "\n",
    "# supply label for queried instance\n",
    "learner.teach(X_pool[query_idx], y_new)"
   ],
   "id": "ded910772a260b69",
   "outputs": [
    {
     "ename": "ModuleNotFoundError",
     "evalue": "No module named 'modAL'",
     "output_type": "error",
     "traceback": [
      "\u001B[0;31m---------------------------------------------------------------------------\u001B[0m",
      "\u001B[0;31mModuleNotFoundError\u001B[0m                       Traceback (most recent call last)",
      "Cell \u001B[0;32mIn[2], line 1\u001B[0m\n\u001B[0;32m----> 1\u001B[0m \u001B[38;5;28;01mfrom\u001B[39;00m \u001B[38;5;21;01mmodAL\u001B[39;00m\u001B[38;5;21;01m.\u001B[39;00m\u001B[38;5;21;01mmodels\u001B[39;00m \u001B[38;5;28;01mimport\u001B[39;00m ActiveLearner\n\u001B[1;32m      2\u001B[0m \u001B[38;5;28;01mfrom\u001B[39;00m \u001B[38;5;21;01msklearn\u001B[39;00m\u001B[38;5;21;01m.\u001B[39;00m\u001B[38;5;21;01mensemble\u001B[39;00m \u001B[38;5;28;01mimport\u001B[39;00m RandomForestClassifier\n\u001B[1;32m      4\u001B[0m \u001B[38;5;66;03m# initializing the learner\u001B[39;00m\n",
      "\u001B[0;31mModuleNotFoundError\u001B[0m: No module named 'modAL'"
     ]
    }
   ],
   "execution_count": 2
  },
  {
   "metadata": {},
   "cell_type": "code",
   "outputs": [],
   "execution_count": null,
   "source": "",
   "id": "7f402ed51b1217aa"
  }
 ],
 "metadata": {
  "kernelspec": {
   "display_name": "Python 3",
   "language": "python",
   "name": "python3"
  },
  "language_info": {
   "codemirror_mode": {
    "name": "ipython",
    "version": 2
   },
   "file_extension": ".py",
   "mimetype": "text/x-python",
   "name": "python",
   "nbconvert_exporter": "python",
   "pygments_lexer": "ipython2",
   "version": "2.7.6"
  }
 },
 "nbformat": 4,
 "nbformat_minor": 5
}
