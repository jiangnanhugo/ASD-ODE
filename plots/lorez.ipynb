{
 "cells": [
  {
   "cell_type": "code",
   "execution_count": 1,
   "id": "initial_id",
   "metadata": {
    "ExecuteTime": {
     "end_time": "2024-01-18T00:11:59.334696581Z",
     "start_time": "2024-01-18T00:11:59.320849559Z"
    }
   },
   "outputs": [],
   "source": [
    "import seaborn as sns\n",
    "import pandas as pd\n",
    "%matplotlib inline\n",
    "import numpy as np\n",
    "import matplotlib as mpl\n",
    "import matplotlib.pyplot as plt\n",
    "from matplotlib import rc\n",
    "# red, blue, green, yellow, purple, orange, teal blue, pink, other color\n",
    "palette=['#ff3b30', '#4cd964','#ffcc00',  '#007aff','#5856d6', '#ff9500', '#5ac8fa', '#ff2d55','#969783']\n",
    "markers=['o', '^', '<', 'd', '*','2']\n",
    "sns.set_style(\"ticks\")\n",
    "# plt.style.use(\"fivethirtyeight\")\n",
    "\n",
    "\n",
    "mpl.rcParams['lines.markersize'] = 6\n",
    "mpl.rcParams['lines.linewidth']=1\n",
    "rc(\"font\", **{'family':'serif','serif':['Palatino'], 'size':12})\n",
    "rc('text', usetex=True)\n",
    "plt.style.use(\"seaborn-v0_8-bright\")\n",
    "import os"
   ]
  },
  {
   "cell_type": "code",
   "execution_count": 2,
   "id": "727770cc35835f70",
   "metadata": {
    "collapsed": false,
    "ExecuteTime": {
     "end_time": "2024-01-18T00:11:59.337061259Z",
     "start_time": "2024-01-18T00:11:59.329443445Z"
    }
   },
   "outputs": [
    {
     "data": {
      "text/plain": "['Solarize_Light2',\n '_classic_test_patch',\n '_mpl-gallery',\n '_mpl-gallery-nogrid',\n 'bmh',\n 'classic',\n 'dark_background',\n 'fast',\n 'fivethirtyeight',\n 'ggplot',\n 'grayscale',\n 'seaborn-v0_8',\n 'seaborn-v0_8-bright',\n 'seaborn-v0_8-colorblind',\n 'seaborn-v0_8-dark',\n 'seaborn-v0_8-dark-palette',\n 'seaborn-v0_8-darkgrid',\n 'seaborn-v0_8-deep',\n 'seaborn-v0_8-muted',\n 'seaborn-v0_8-notebook',\n 'seaborn-v0_8-paper',\n 'seaborn-v0_8-pastel',\n 'seaborn-v0_8-poster',\n 'seaborn-v0_8-talk',\n 'seaborn-v0_8-ticks',\n 'seaborn-v0_8-white',\n 'seaborn-v0_8-whitegrid',\n 'tableau-colorblind10']"
     },
     "execution_count": 2,
     "metadata": {},
     "output_type": "execute_result"
    }
   ],
   "source": [
    "plt.style.available"
   ]
  },
  {
   "cell_type": "code",
   "execution_count": 3,
   "id": "404b674872929aa",
   "metadata": {
    "collapsed": false,
    "ExecuteTime": {
     "end_time": "2024-01-18T00:12:00.300304577Z",
     "start_time": "2024-01-18T00:12:00.269424472Z"
    }
   },
   "outputs": [],
   "source": [
    "basepath=\"./\""
   ]
  },
  {
   "cell_type": "code",
   "execution_count": 4,
   "id": "e935a7e8d3d26ecf",
   "metadata": {
    "collapsed": false,
    "ExecuteTime": {
     "end_time": "2024-01-18T00:12:15.808744015Z",
     "start_time": "2024-01-18T00:12:14.834058867Z"
    }
   },
   "outputs": [],
   "source": [
    "def lorenz(xyz, *, s=10, r=28, b=2.667):\n",
    "    \"\"\"\n",
    "    Parameters\n",
    "    ----------\n",
    "    xyz : array-like, shape (3,)\n",
    "       Point of interest in three-dimensional space.\n",
    "    s, r, b : float\n",
    "       Parameters defining the Lorenz attractor.\n",
    "\n",
    "    Returns\n",
    "    -------\n",
    "    xyz_dot : array, shape (3,)\n",
    "       Values of the Lorenz attractor's partial derivatives at *xyz*.\n",
    "    \"\"\"\n",
    "    x, y, z = xyz\n",
    "    x_dot = s*(y - x)\n",
    "    y_dot = r*x - y - x*z\n",
    "    z_dot = x*y - b*z\n",
    "    return np.array([x_dot, y_dot, z_dot])\n",
    "\n",
    "\n",
    "dt = 0.01\n",
    "num_steps = 10000\n",
    "\n",
    "xyzs = np.empty((num_steps + 1, 3))  # Need one more for the initial values\n",
    "xyzs[0] = (0., 1., 1.05)  # Set initial values\n",
    "# Step through \"time\", calculating the partial derivatives at the current point\n",
    "# and using them to estimate the next point\n",
    "for i in range(num_steps):\n",
    "    xyzs[i + 1] = xyzs[i] + lorenz(xyzs[i]) * dt\n",
    "\n",
    "from mpl_toolkits.mplot3d import Axes3D \n",
    "# Plot\n",
    "ax = plt.figure(figsize=(3,8)).add_subplot(projection='3d')\n",
    "\n",
    "ax.plot(*xyzs.T, lw=0.1,color=palette[1])\n",
    "\n",
    "xs = np.linspace(-40, 30, 500)\n",
    "zs = np.linspace(-5, 70, 500)\n",
    "\n",
    "Y, Z = np.meshgrid(xs, zs)\n",
    "X = 15\n",
    "ax.plot_surface(X, Y, Z, color=palette[3], linewidth=0.4)\n",
    "\n",
    "ax.set_xlabel(r\"$x_1$\")\n",
    "ax.set_ylabel(r\"$x_2$\")\n",
    "ax.set_zlabel(r\"$x_3$\")\n",
    "# ax.set_title(\"Lorenz Attractor\")\n",
    "\n",
    "# plt.show()\n",
    "fname = os.path.join(basepath, \"lorenz_controlX.pdf\")\n",
    "plt.savefig(fname, bbox_inches='tight', pad_inches=0)\n",
    "plt.close()"
   ]
  },
  {
   "cell_type": "code",
   "execution_count": 7,
   "id": "ef87ed90eb11e82",
   "metadata": {
    "collapsed": false,
    "ExecuteTime": {
     "end_time": "2024-01-18T00:13:53.793951767Z",
     "start_time": "2024-01-18T00:13:53.195784040Z"
    }
   },
   "outputs": [],
   "source": [
    "# Plot\n",
    "ax = plt.figure(figsize=(3,10)).add_subplot(projection='3d')\n",
    "\n",
    "ax.plot(*xyzs.T, lw=0.1,color=palette[1])\n",
    "\n",
    "xs = np.linspace(-40, 30, 500)\n",
    "zs = np.linspace(-5, 70, 500)\n",
    "\n",
    "X, Z = np.meshgrid(xs, zs)\n",
    "Y = -15\n",
    "ax.plot_surface(X, Y, Z, color=palette[3], linewidth=0.7)\n",
    "\n",
    "ax.set_xlabel(r\"$x_1$\")\n",
    "ax.set_ylabel(r\"$x_2$\")\n",
    "ax.set_zlabel(r\"$x_3$\")\n",
    "# ax.set_title(\"Lorenz Attractor\")\n",
    "\n",
    "# plt.show()\n",
    "fname = os.path.join(basepath, \"lorenz_controlY.pdf\")\n",
    "plt.savefig(fname, pad_inches=0)\n",
    "plt.close()"
   ]
  },
  {
   "cell_type": "code",
   "execution_count": null,
   "id": "bee27db672c053f9",
   "metadata": {
    "collapsed": false
   },
   "outputs": [],
   "source": []
  }
 ],
 "metadata": {
  "kernelspec": {
   "display_name": "Python 3 (ipykernel)",
   "language": "python",
   "name": "python3"
  },
  "language_info": {
   "codemirror_mode": {
    "name": "ipython",
    "version": 3
   },
   "file_extension": ".py",
   "mimetype": "text/x-python",
   "name": "python",
   "nbconvert_exporter": "python",
   "pygments_lexer": "ipython3",
   "version": "3.10.12"
  }
 },
 "nbformat": 4,
 "nbformat_minor": 5
}
