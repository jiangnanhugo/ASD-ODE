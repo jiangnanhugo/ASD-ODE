{
 "cells": [
  {
   "cell_type": "code",
   "id": "1f3238b3",
   "metadata": {
    "ExecuteTime": {
     "end_time": "2024-04-28T05:28:35.517260Z",
     "start_time": "2024-04-28T05:28:35.510939Z"
    }
   },
   "source": [
    "import seaborn as sns\n",
    "import pandas as pd\n",
    "%matplotlib inline\n",
    "import matplotlib.pyplot as plt\n",
    "from matplotlib import rc\n",
    "# red, blue, green, yellow, purple, orange, teal blue, pink, other color\n",
    "palette=['#ff3b30', '#4cd964','#ffcc00',  '#007aff','#5856d6', '#ff9500', '#5ac8fa', '#ff2d55','#969783']\n",
    "markers=['o', '^', '<', 'd', '*','2']\n",
    "sns.set_style(\"ticks\")\n",
    "import matplotlib as mpl\n",
    "mpl.rcParams['lines.markersize'] = 6\n",
    "mpl.rcParams['lines.linewidth']=1\n",
    "rc(\"font\", **{'family':'serif','serif':['Palatino'], 'size':12})\n",
    "rc('text', usetex=False)\n",
    "import os"
   ],
   "outputs": [],
   "execution_count": 9
  },
  {
   "cell_type": "code",
   "id": "9f6bfb29",
   "metadata": {
    "ExecuteTime": {
     "end_time": "2024-04-28T05:28:35.875692Z",
     "start_time": "2024-04-28T05:28:35.872478Z"
    }
   },
   "source": "basepath=\"./\"",
   "outputs": [],
   "execution_count": 10
  },
  {
   "cell_type": "code",
   "id": "42c817ce",
   "metadata": {
    "ExecuteTime": {
     "end_time": "2024-04-28T05:28:36.316797Z",
     "start_time": "2024-04-28T05:28:36.308805Z"
    }
   },
   "source": [
    "\n",
    "def plot_quantile_nmse(total, name, title, metric_name, use_logy=False, show_ylabel=True, use_hatches=False):\n",
    "    ode_transformer=[abs(float(line.split(\"\\t\")[0])) for line in total.split(\"\\n\")]\n",
    "    act_ode=[abs(float(line.split(\"\\t\")[1])) for line in total.split(\"\\n\")]\n",
    "    length=len(total.split(\"\\n\"))\n",
    "    print(length)\n",
    "    df=pd.DataFrame({\n",
    "        \"model\": act_ode+ode_transformer,\n",
    "        \"type\": ['ACTODE(ours)']*length+['ODEFormer']*length,\n",
    "    })\n",
    "    \n",
    "\n",
    "    plt.figure(figsize=(4,2.9))\n",
    "    ax=sns.boxplot(data=df, x=\"model\", y=\"type\", \n",
    "                   showfliers=True, \n",
    "                   width=0.5, hue='type',\n",
    "                    palette=palette)\n",
    "    ax.set_title(title, fontsize=16)\n",
    "    ax.set(xlabel=metric_name, ylabel=\"\")\n",
    "    if use_logy==True:\n",
    "        plt.xscale('log', base=10)\n",
    "        \n",
    "    if show_ylabel==False:\n",
    "        ax.set(yticklabels=[])\n",
    "    if use_hatches==True:\n",
    "        hatches = [\"/\", \"o\", \"*\", \"\\\\\"]\n",
    "        for hatch, patch in zip(hatches, ax.artists):\n",
    "            patch.set_hatch(hatch)\n",
    "    plt.yticks(rotation=40)    \n",
    "\n",
    "    fname = os.path.join(basepath, name+\".pdf\")\n",
    "    plt.savefig(fname, bbox_inches='tight', pad_inches=0)"
   ],
   "outputs": [],
   "execution_count": 11
  },
  {
   "cell_type": "markdown",
   "id": "c43c28e4-b481-475c-90b0-ed9d15e32d3b",
   "metadata": {},
   "source": ""
  },
  {
   "cell_type": "markdown",
   "id": "261dab6e-f07e-4424-8cef-125acc37a25a",
   "metadata": {},
   "source": "# Strongatz dataset"
  },
  {
   "cell_type": "code",
   "id": "6176a285-111d-4744-9eb0-50ecd72ba04d",
   "metadata": {
    "ExecuteTime": {
     "end_time": "2024-04-28T05:33:19.138909Z",
     "start_time": "2024-04-28T05:33:18.897824Z"
    }
   },
   "source": [
    "total=\"\"\"1.93E-05\t0\n",
    "0.005040090376\t-3.38E-16\n",
    "0.008444352462\t-3.13E-18\n",
    "0.001390256179\t-4.00E-06\n",
    "0.9937783921\t-0.1673301492\n",
    "0.09801504605\t-0.003072098889\n",
    "1.121751673\t-0.0004341880742\n",
    "8.270076057\t-1.20E-07\n",
    "0.001156716853\t-8.32E-06\n",
    "0.2095195479\t-8.90E-16\n",
    "1.364097228\t-6.774733802\n",
    "0.03856159872\t-0.08000183193\n",
    "0.0004189361024\t-0.007813674066\n",
    "0.002577059738\t-7.01E-18\n",
    "0.0138877647\t-3.24E-18\n",
    "0.1018359252\t-2.89E-16\n",
    "2.659891547\t-0.07300326977\n",
    "0.001395978476\t-15.06006074\n",
    "4.61E-06\t-6.58E-15\n",
    "8.057234096\t-0.00696794363\n",
    "0.01036744719\t-1.90E-09\n",
    "1.312553053\t-4.05E-15\"\"\"\n",
    "metric_name=\"NMSE\"\n",
    "name=r\"strogatz_\"+metric_name+\"_vars1\"\n",
    "title=r\"Strogatz (n=1)\"\n",
    "plot_quantile_nmse(total, name, title,metric_name=metric_name, use_logy=True, show_ylabel=True)\n"
   ],
   "outputs": [
    {
     "name": "stderr",
     "output_type": "stream",
     "text": [
      "/tmp/ipykernel_77622/1543305413.py:13: UserWarning: The palette list has more values (9) than needed (2), which may not be intended.\n",
      "  ax=sns.boxplot(data=df, x=\"model\", y=\"type\",\n",
      "findfont: Generic family 'serif' not found because none of the following families were found: Palatino\n",
      "findfont: Generic family 'serif' not found because none of the following families were found: Palatino\n",
      "findfont: Generic family 'serif' not found because none of the following families were found: Palatino\n",
      "findfont: Generic family 'serif' not found because none of the following families were found: Palatino\n",
      "findfont: Generic family 'serif' not found because none of the following families were found: Palatino\n",
      "findfont: Generic family 'serif' not found because none of the following families were found: Palatino\n",
      "findfont: Generic family 'serif' not found because none of the following families were found: Palatino\n",
      "findfont: Generic family 'serif' not found because none of the following families were found: Palatino\n",
      "findfont: Generic family 'serif' not found because none of the following families were found: Palatino\n",
      "findfont: Generic family 'serif' not found because none of the following families were found: Palatino\n",
      "findfont: Generic family 'serif' not found because none of the following families were found: Palatino\n",
      "findfont: Generic family 'serif' not found because none of the following families were found: Palatino\n",
      "findfont: Generic family 'serif' not found because none of the following families were found: Palatino\n",
      "findfont: Generic family 'serif' not found because none of the following families were found: Palatino\n",
      "findfont: Generic family 'serif' not found because none of the following families were found: Palatino\n",
      "findfont: Generic family 'serif' not found because none of the following families were found: Palatino\n",
      "findfont: Generic family 'serif' not found because none of the following families were found: Palatino\n",
      "findfont: Generic family 'serif' not found because none of the following families were found: Palatino\n",
      "findfont: Generic family 'serif' not found because none of the following families were found: Palatino\n",
      "findfont: Generic family 'serif' not found because none of the following families were found: Palatino\n",
      "findfont: Generic family 'serif' not found because none of the following families were found: Palatino\n",
      "findfont: Generic family 'serif' not found because none of the following families were found: Palatino\n",
      "findfont: Generic family 'serif' not found because none of the following families were found: Palatino\n",
      "findfont: Generic family 'serif' not found because none of the following families were found: Palatino\n",
      "findfont: Generic family 'serif' not found because none of the following families were found: Palatino\n",
      "findfont: Generic family 'serif' not found because none of the following families were found: Palatino\n",
      "findfont: Generic family 'serif' not found because none of the following families were found: Palatino\n",
      "findfont: Generic family 'serif' not found because none of the following families were found: Palatino\n",
      "findfont: Generic family 'serif' not found because none of the following families were found: Palatino\n",
      "findfont: Generic family 'serif' not found because none of the following families were found: Palatino\n",
      "findfont: Generic family 'serif' not found because none of the following families were found: Palatino\n",
      "findfont: Generic family 'serif' not found because none of the following families were found: Palatino\n",
      "findfont: Generic family 'serif' not found because none of the following families were found: Palatino\n"
     ]
    },
    {
     "name": "stdout",
     "output_type": "stream",
     "text": [
      "22\n"
     ]
    },
    {
     "name": "stderr",
     "output_type": "stream",
     "text": [
      "findfont: Generic family 'serif' not found because none of the following families were found: Palatino\n",
      "findfont: Generic family 'serif' not found because none of the following families were found: Palatino\n",
      "findfont: Generic family 'serif' not found because none of the following families were found: Palatino\n"
     ]
    },
    {
     "data": {
      "text/plain": [
       "<Figure size 400x290 with 1 Axes>"
      ],
      "image/png": "[encoded data removed]"
     },
     "metadata": {},
     "output_type": "display_data"
    }
   ],
   "execution_count": 15
  },
  {
   "cell_type": "code",
   "execution_count": null,
   "id": "b35f647c",
   "metadata": {},
   "outputs": [],
   "source": []
  },
  {
   "cell_type": "code",
   "execution_count": null,
   "id": "2e535f5c",
   "metadata": {},
   "outputs": [],
   "source": []
  },
  {
   "cell_type": "code",
   "execution_count": null,
   "id": "5a39f8a8",
   "metadata": {},
   "outputs": [],
   "source": []
  }
 ],
 "metadata": {
  "kernelspec": {
   "display_name": "Python 3 (ipykernel)",
   "language": "python",
   "name": "python3"
  },
  "language_info": {
   "codemirror_mode": {
    "name": "ipython",
    "version": 3
   },
   "file_extension": ".py",
   "mimetype": "text/x-python",
   "name": "python",
   "nbconvert_exporter": "python",
   "pygments_lexer": "ipython3",
   "version": "3.10.10"
  }
 },
 "nbformat": 4,
 "nbformat_minor": 5
}
